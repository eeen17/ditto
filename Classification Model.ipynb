{
 "cells": [
  {
   "cell_type": "code",
   "execution_count": 27,
   "metadata": {},
   "outputs": [
    {
     "name": "stdout",
     "output_type": "stream",
     "text": [
      "           account_nbr   risk  cu_crd_line  max_upper_bound  \\\n",
      "0     00oyr3QppAzjLws4   Good         2900        31.577988   \n",
      "1     02WRVV8yusgcZWLW   Good        15000      5681.649827   \n",
      "2     033o9yHYen3xoz6k   Good        15000      3281.627696   \n",
      "3     034bM166vNmgLiIA  Risky         1100       125.918843   \n",
      "4     03cqv0gFjEIiQG0x  Risky         2500         0.000000   \n",
      "...                ...    ...          ...              ...   \n",
      "9340  zyZhjzJwhpOgSvmc  Risky         2100       907.948869   \n",
      "9341  zz3nbtZXS41NZk0h   Good         2300        68.953887   \n",
      "9342  zzBy2qNM78aRV580   Good        14800         0.000000   \n",
      "9343  zzEuUBBmvGiVnabb   Good         6000      3078.254775   \n",
      "9344  zzR9PvG7dY9u5iHU    Bad         5000       594.773186   \n",
      "\n",
      "      adjusted_credit_limit  \n",
      "0                    2900.0  \n",
      "1                   15000.0  \n",
      "2                   15000.0  \n",
      "3                    1100.0  \n",
      "4                    2500.0  \n",
      "...                     ...  \n",
      "9340                 2100.0  \n",
      "9341                 2300.0  \n",
      "9342                14800.0  \n",
      "9343                 6000.0  \n",
      "9344                 5000.0  \n",
      "\n",
      "[9345 rows x 5 columns]\n"
     ]
    }
   ],
   "source": [
    "# Classifications time baby!\n",
    "import classify\n",
    "import pandas as pd\n",
    "df = pd.read_csv('spending_predictions_months_11_to_14.csv')\n",
    "df_credit = pd.read_csv(\"rams_batch_cur_20250325.csv\")\n",
    "df_filtered = df_credit[['cu_account_nbr', 'cu_crd_line']]\n",
    "result = df_filtered.groupby('cu_account_nbr', as_index=False)['cu_crd_line'].max()\n",
    "result.rename(columns={'cu_account_nbr': 'account_nbr'}, inplace=True)\n",
    "\n",
    "df = df.merge(result, left_on='account_nbr', right_on='account_nbr', how='left')\n",
    "\n",
    "upper_bound_cols = ['upper_bound_11', 'upper_bound_12', 'upper_bound_13', 'upper_bound_14']\n",
    "pred = [\"predicted_11\",\"predicted_12\",\"predicted_13\",\"predicted_14\"]\n",
    "df['max_upper_bound'] = df[pred].max(axis=1)\n",
    "\n",
    "df_eval = classify.evaluateRiskVectorized()\n",
    "df_eval.rename(columns={'cu_account_nbr': 'account_nbr'}, inplace=True)\n",
    "df = df.merge(df_eval, left_on='account_nbr', right_on='account_nbr', how='left')\n",
    "\n",
    "\n",
    "def adjust_credit_limit(row):\n",
    "    if row['max_upper_bound'] > row['history_max'] and (row['max_upper_bound']/row[\"cu_crd_line\"]) > 0.70:  \n",
    "        if row['risk'] == 'Good':\n",
    "            return row['cu_crd_line'] * 2  \n",
    "        elif row['risk'] == 'Risky':\n",
    "            return row['cu_crd_line'] * 1.2  \n",
    "        else:\n",
    "            return row['cu_crd_line']  \n",
    "    else:\n",
    "        return row['cu_crd_line'] \n",
    "\n",
    "df['adjusted_credit_limit'] = df.apply(adjust_credit_limit, axis=1)\n",
    "\n",
    "print(df[['account_nbr', 'risk', 'cu_crd_line', 'max_upper_bound', 'adjusted_credit_limit']])\n",
    "\n",
    "df[['account_nbr', 'risk', 'cu_crd_line', 'max_upper_bound', 'adjusted_credit_limit']].to_csv('adjusted_credit_limits.csv', index=False)\n",
    "\n"
   ]
  },
  {
   "cell_type": "code",
   "execution_count": null,
   "metadata": {},
   "outputs": [],
   "source": []
  }
 ],
 "metadata": {
  "kernelspec": {
   "display_name": "Python 3",
   "language": "python",
   "name": "python3"
  },
  "language_info": {
   "codemirror_mode": {
    "name": "ipython",
    "version": 3
   },
   "file_extension": ".py",
   "mimetype": "text/x-python",
   "name": "python",
   "nbconvert_exporter": "python",
   "pygments_lexer": "ipython3",
   "version": "3.11.9"
  }
 },
 "nbformat": 4,
 "nbformat_minor": 2
}
